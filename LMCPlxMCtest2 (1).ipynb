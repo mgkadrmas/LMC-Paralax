{
 "cells": [
  {
   "cell_type": "code",
   "execution_count": 1,
   "metadata": {},
   "outputs": [
    {
     "name": "stderr",
     "output_type": "stream",
     "text": [
      "WARNING: AstropyDeprecationWarning: astropy.extern.six will be removed in 4.0, use the six module directly if it is still needed [astropy.extern.six]\n"
     ]
    }
   ],
   "source": [
    "from dl import authClient as ac, queryClient as qc, storeClient as sc, helpers\n",
    "import pylab as plt\n",
    "import numpy as np\n",
    "from astropy.io import fits\n",
    "import matplotlib as mpl\n",
    "import math\n",
    "import astropy.io.fits as fits\n",
    "from astropy.table import Table, Column\n",
    "import scipy.optimize as sp"
   ]
  },
  {
   "cell_type": "code",
   "execution_count": 2,
   "metadata": {},
   "outputs": [],
   "source": [
    "token=ac.login('mgkadrmas')"
   ]
  },
  {
   "cell_type": "code",
   "execution_count": 3,
   "metadata": {},
   "outputs": [],
   "source": [
    "df=Table(fits.getdata('LMCParallax4.fits'))\n",
    "df['Dist']=1/df['parallax']\n",
    "df['Disterror']=df['sigma']/(df['parallax']**2)"
   ]
  },
  {
   "cell_type": "code",
   "execution_count": 4,
   "metadata": {},
   "outputs": [],
   "source": [
    "def onclick(event):\n",
    "    print('%s click: button=%d, x=%d, y=%d, xdata=%f, ydata=%f' %\n",
    "          ('double' if event.dblclick else 'single', event.button,\n",
    "           event.x, event.y, event.xdata, event.ydata))\n",
    "    \n",
    "    \n",
    "    \n",
    "def roi_cut(xcut,ycut,x,y): \n",
    "    from matplotlib.path import Path\n",
    "    tupVerts = list(zip(xcut,ycut))\n",
    "    points = np.vstack((x,y)).T\n",
    "    p = Path(tupVerts) # make a polygon\n",
    "    inside = p.contains_points(points)\n",
    "    ind, = np.where(~inside)\n",
    "    cutind, = np.where(inside)\n",
    "    return ind, cutind\n",
    "    print (ind, cutind)"
   ]
  },
  {
   "cell_type": "code",
   "execution_count": 5,
   "metadata": {},
   "outputs": [],
   "source": [
    "xcut=[102.237903,99.022177,95.584677,90.372984,85.715726,75.625000,71.189516,67.752016,63.981855,62.207661,59.879032,58.770161,57.217742,56.219758,59.213710,63.870968,71.522177,78.840726,87.046371,93.256048,100.020161,103.014113,104.012097]\n",
    "ycut=[-64.938814,-63.151940,-61.439520,-59.801552,-58.312490,-58.238037,-58.461396,-59.429286,-60.173817,-62.109597,-65.385533,-68.512562,-71.490685,-75.138886,-76.851306,-77.893650,-78.489274,-78.191462,-78.191462,-77.521384,-75.362245,-72.458575,-68.438109]\n",
    "x=df['ra'].ravel()\n",
    "y=df['dec'].ravel()\n",
    "(ind, cutind) = roi_cut(xcut,ycut,x,y)\n"
   ]
  },
  {
   "cell_type": "code",
   "execution_count": 6,
   "metadata": {},
   "outputs": [],
   "source": [
    "def InclineDiskDist(ra, dec, pa, io, d0):\n",
    "    ra1 = np.copy(ra)\n",
    "    dec1 = np.copy(dec)\n",
    "    ra1 = np.radians(ra1)\n",
    "    dec1 = np.radians(dec1)\n",
    "    alph0 = np.radians(81.9) #np.radians(82.25) #ra of LMC center\n",
    "    delt0 = np.radians(-69.866667) #np.radians(-69.5) #dec of LMC center\n",
    "    sd = np.sin(delt0)\n",
    "    cd = np.cos(delt0)\n",
    "    io = np.radians(io) #inclination #25.86\n",
    "    pa = np.radians(pa) #np.radians(149.37+90)  #position angle of line-of-nodes\n",
    "    cosr = cd*np.cos(dec1)*np.cos(ra1-alph0)+sd*np.sin(dec1)\n",
    "    sinrcosph = -np.cos(dec1)*np.sin(ra1-alph0)\n",
    "    sinrsinph = cd*np.sin(dec1)-sd*np.cos(dec1)*np.cos(ra1-alph0)\n",
    "    dist = d0*np.cos(io)/(np.cos(io)*cosr-np.sin(io)*np.cos(pa)*sinrsinph+np.sin(io)*np.sin(pa)*sinrcosph)\n",
    "    return dist\n"
   ]
  },
  {
   "cell_type": "code",
   "execution_count": 7,
   "metadata": {},
   "outputs": [],
   "source": [
    "def creatediskmodel(theta, inclin, Distcenter):\n",
    "    dtype=np.dtype([('ra',float),('dec',float),('distheory',float)])\n",
    "    cat = np.zeros([56,26], dtype=dtype)\n",
    "    for x in range (56):\n",
    "        ra=x+55\n",
    "        for y in range (26):\n",
    "            dec=y-80\n",
    "            (distheory) = InclineDiskDist(ra,dec,theta,inclin,Distcenter)\n",
    "            cat[x,y]['ra']=ra\n",
    "            cat[x,y]['dec']=dec\n",
    "            cat[x,y]['distheory']=distheory\n",
    "    return cat"
   ]
  },
  {
   "cell_type": "code",
   "execution_count": 8,
   "metadata": {},
   "outputs": [],
   "source": [
    "x0=np.array([235,25,50],dtype=float)\n",
    "\n",
    "def findbestdiskmodel(cat):\n",
    "    def residuals(x):\n",
    "        model=creatediskmodel(x[0], x[1], x[2])\n",
    "        return (cat['Dist'].ravel()[cutind] - model['distheory'].ravel()[cutind])\n",
    "    soln=sp.least_squares(residuals, x0, bounds=([0, 0, 0], [360, 60, np.inf]))\n",
    "    theta = soln.x[0]\n",
    "    inclin = soln.x[1]\n",
    "    Distcenter = soln.x[2]\n",
    "    return theta, inclin, Distcenter"
   ]
  },
  {
   "cell_type": "code",
   "execution_count": 9,
   "metadata": {},
   "outputs": [
    {
     "data": {
      "text/plain": [
       "(235.3451184146557, 52.73165553741655, 48.92351491747575)"
      ]
     },
     "execution_count": 9,
     "metadata": {},
     "output_type": "execute_result"
    }
   ],
   "source": [
    "findbestdiskmodel(df)"
   ]
  },
  {
   "cell_type": "code",
   "execution_count": null,
   "metadata": {},
   "outputs": [],
   "source": [
    "dtype=np.dtype([('theta',float),('inclin',float),('distcenter',float)])\n",
    "MC = np.zeros(100, dtype=dtype)\n",
    "\n",
    "model = creatediskmodel(235.276, 52.75566, 48.92247)\n",
    "\n",
    "for t in range(100):\n",
    "    synth = df.copy()\n",
    "    synth['Dist'] = model['distheory'] + np.random.randn(model.shape[0],model.shape[1])*df['Disterror']\n",
    "    synth['Disterror'] = df['Disterror']\n",
    "    theta, inclin, distcenter = findbestdiskmodel(synth)\n",
    "    MC[t]['theta'] = theta\n",
    "    MC[t]['inclin'] = inclin\n",
    "    MC[t]['distcenter'] = distcenter\n",
    "\n",
    "MC = Table(MC)\n",
    "MC.write('LMCPlxMCbig5.fits', format='fits')"
   ]
  },
  {
   "cell_type": "code",
   "execution_count": 11,
   "metadata": {},
   "outputs": [],
   "source": [
    "MC=fits.getdata('LMCPlxMCbig5.fits')"
   ]
  },
  {
   "cell_type": "code",
   "execution_count": 13,
   "metadata": {},
   "outputs": [
    {
     "data": {
      "text/plain": [
       "151.16512825705118"
      ]
     },
     "execution_count": 13,
     "metadata": {},
     "output_type": "execute_result"
    }
   ],
   "source": [
    "np.std(MC['theta'])"
   ]
  },
  {
   "cell_type": "code",
   "execution_count": 14,
   "metadata": {},
   "outputs": [
    {
     "data": {
      "text/plain": [
       "24.379313275680232"
      ]
     },
     "execution_count": 14,
     "metadata": {},
     "output_type": "execute_result"
    }
   ],
   "source": [
    "np.std(MC['inclin'])"
   ]
  },
  {
   "cell_type": "code",
   "execution_count": 15,
   "metadata": {},
   "outputs": [
    {
     "data": {
      "text/plain": [
       "110.87883470704675"
      ]
     },
     "execution_count": 15,
     "metadata": {},
     "output_type": "execute_result"
    }
   ],
   "source": [
    "np.std(MC['distcenter'])"
   ]
  },
  {
   "cell_type": "code",
   "execution_count": 16,
   "metadata": {},
   "outputs": [
    {
     "data": {
      "text/plain": [
       "(array([20.,  1.,  0.,  0.,  0.,  0.,  0.,  0.,  0.,  0.,  0.,  0.,  0.,\n",
       "         0.,  0.,  0.,  0.,  0.,  0.,  0.,  0.,  0.,  0.,  0.,  0.,  0.,\n",
       "         0.,  0.,  0.,  0.,  0.,  0.,  0.,  0.,  0.,  0.,  0.,  0.,  0.,\n",
       "         0.,  0.,  0.,  0.,  0.,  0.,  0.,  0.,  0.,  0., 79.]),\n",
       " array([1.43682316e-10, 1.20000000e+00, 2.40000000e+00, 3.60000000e+00,\n",
       "        4.80000000e+00, 6.00000000e+00, 7.20000000e+00, 8.40000000e+00,\n",
       "        9.60000000e+00, 1.08000000e+01, 1.20000000e+01, 1.32000000e+01,\n",
       "        1.44000000e+01, 1.56000000e+01, 1.68000000e+01, 1.80000000e+01,\n",
       "        1.92000000e+01, 2.04000000e+01, 2.16000000e+01, 2.28000000e+01,\n",
       "        2.40000000e+01, 2.52000000e+01, 2.64000000e+01, 2.76000000e+01,\n",
       "        2.88000000e+01, 3.00000000e+01, 3.12000000e+01, 3.24000000e+01,\n",
       "        3.36000000e+01, 3.48000000e+01, 3.60000000e+01, 3.72000000e+01,\n",
       "        3.84000000e+01, 3.96000000e+01, 4.08000000e+01, 4.20000000e+01,\n",
       "        4.32000000e+01, 4.44000000e+01, 4.56000000e+01, 4.68000000e+01,\n",
       "        4.80000000e+01, 4.92000000e+01, 5.04000000e+01, 5.16000000e+01,\n",
       "        5.28000000e+01, 5.40000000e+01, 5.52000000e+01, 5.64000000e+01,\n",
       "        5.76000000e+01, 5.88000000e+01, 6.00000000e+01]),\n",
       " <a list of 50 Patch objects>)"
      ]
     },
     "execution_count": 16,
     "metadata": {},
     "output_type": "execute_result"
    },
    {
     "data": {
      "image/png": "[encoded data removed]",
      "text/plain": [
       "<Figure size 432x288 with 1 Axes>"
      ]
     },
     "metadata": {},
     "output_type": "display_data"
    }
   ],
   "source": [
    "plt.hist(MC['inclin'], bins=50)"
   ]
  },
  {
   "cell_type": "code",
   "execution_count": 17,
   "metadata": {},
   "outputs": [
    {
     "data": {
      "text/plain": [
       "(array([28.,  0.,  0.,  0.,  1.,  0.,  0.,  0.,  0.,  0.,  0.,  0.,  0.,\n",
       "         0.,  0.,  0.,  0.,  0.,  0.,  0.,  0.,  0.,  3.,  2.,  0.,  1.,\n",
       "         0.,  0.,  1.,  2.,  0.,  1.,  0.,  0.,  0.,  1.,  0.,  1.,  0.,\n",
       "         0.,  0.,  0.,  0.,  1.,  1.,  3., 18., 21.,  3., 12.]),\n",
       " array([5.14619343e-18, 7.20000000e+00, 1.44000000e+01, 2.16000000e+01,\n",
       "        2.88000000e+01, 3.60000000e+01, 4.32000000e+01, 5.04000000e+01,\n",
       "        5.76000000e+01, 6.48000000e+01, 7.20000000e+01, 7.92000000e+01,\n",
       "        8.64000000e+01, 9.36000000e+01, 1.00800000e+02, 1.08000000e+02,\n",
       "        1.15200000e+02, 1.22400000e+02, 1.29600000e+02, 1.36800000e+02,\n",
       "        1.44000000e+02, 1.51200000e+02, 1.58400000e+02, 1.65600000e+02,\n",
       "        1.72800000e+02, 1.80000000e+02, 1.87200000e+02, 1.94400000e+02,\n",
       "        2.01600000e+02, 2.08800000e+02, 2.16000000e+02, 2.23200000e+02,\n",
       "        2.30400000e+02, 2.37600000e+02, 2.44800000e+02, 2.52000000e+02,\n",
       "        2.59200000e+02, 2.66400000e+02, 2.73600000e+02, 2.80800000e+02,\n",
       "        2.88000000e+02, 2.95200000e+02, 3.02400000e+02, 3.09600000e+02,\n",
       "        3.16800000e+02, 3.24000000e+02, 3.31200000e+02, 3.38400000e+02,\n",
       "        3.45600000e+02, 3.52800000e+02, 3.60000000e+02]),\n",
       " <a list of 50 Patch objects>)"
      ]
     },
     "execution_count": 17,
     "metadata": {},
     "output_type": "execute_result"
    },
    {
     "data": {
      "image/png": "[encoded data removed]",
      "text/plain": [
       "<Figure size 432x288 with 1 Axes>"
      ]
     },
     "metadata": {},
     "output_type": "display_data"
    }
   ],
   "source": [
    "plt.hist(MC['theta'], bins=50)"
   ]
  },
  {
   "cell_type": "code",
   "execution_count": 18,
   "metadata": {},
   "outputs": [
    {
     "data": {
      "text/plain": [
       "(array([28.,  2.,  1.,  3.,  2.,  4.,  2.,  2.,  3.,  2.,  2.,  2.,  1.,\n",
       "         1.,  3.,  0.,  5.,  2.,  0.,  4.,  3.,  2.,  1.,  0.,  0.,  2.,\n",
       "         1.,  4.,  3.,  1.,  3.,  0.,  0.,  1.,  2.,  0.,  2.,  0.,  0.,\n",
       "         1.,  1.,  0.,  1.,  0.,  1.,  0.,  1.,  0.,  0.,  1.]),\n",
       " array([1.85917173e-11, 8.21806609e+00, 1.64361322e+01, 2.46541983e+01,\n",
       "        3.28722643e+01, 4.10903304e+01, 4.93083965e+01, 5.75264626e+01,\n",
       "        6.57445287e+01, 7.39625948e+01, 8.21806609e+01, 9.03987269e+01,\n",
       "        9.86167930e+01, 1.06834859e+02, 1.15052925e+02, 1.23270991e+02,\n",
       "        1.31489057e+02, 1.39707123e+02, 1.47925190e+02, 1.56143256e+02,\n",
       "        1.64361322e+02, 1.72579388e+02, 1.80797454e+02, 1.89015520e+02,\n",
       "        1.97233586e+02, 2.05451652e+02, 2.13669718e+02, 2.21887784e+02,\n",
       "        2.30105850e+02, 2.38323916e+02, 2.46541983e+02, 2.54760049e+02,\n",
       "        2.62978115e+02, 2.71196181e+02, 2.79414247e+02, 2.87632313e+02,\n",
       "        2.95850379e+02, 3.04068445e+02, 3.12286511e+02, 3.20504577e+02,\n",
       "        3.28722643e+02, 3.36940710e+02, 3.45158776e+02, 3.53376842e+02,\n",
       "        3.61594908e+02, 3.69812974e+02, 3.78031040e+02, 3.86249106e+02,\n",
       "        3.94467172e+02, 4.02685238e+02, 4.10903304e+02]),\n",
       " <a list of 50 Patch objects>)"
      ]
     },
     "execution_count": 18,
     "metadata": {},
     "output_type": "execute_result"
    },
    {
     "data": {
      "image/png": "[encoded data removed]",
      "text/plain": [
       "<Figure size 432x288 with 1 Axes>"
      ]
     },
     "metadata": {},
     "output_type": "display_data"
    }
   ],
   "source": [
    "plt.hist(MC['distcenter'], bins=50)"
   ]
  },
  {
   "cell_type": "code",
   "execution_count": null,
   "metadata": {},
   "outputs": [],
   "source": []
  }
 ],
 "metadata": {
  "kernelspec": {
   "display_name": "Python 3",
   "language": "python",
   "name": "python3"
  },
  "language_info": {
   "codemirror_mode": {
    "name": "ipython",
    "version": 3
   },
   "file_extension": ".py",
   "mimetype": "text/x-python",
   "name": "python",
   "nbconvert_exporter": "python",
   "pygments_lexer": "ipython3",
   "version": "3.6.5"
  }
 },
 "nbformat": 4,
 "nbformat_minor": 2
}
