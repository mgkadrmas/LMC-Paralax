{
 "cells": [
  {
   "cell_type": "code",
   "execution_count": 1,
   "metadata": {},
   "outputs": [],
   "source": [
    "import pylab as plt\n",
    "import numpy as np\n",
    "from astropy.io import fits\n",
    "import matplotlib as mpl\n",
    "import math\n",
    "import astropy.io.fits as fits\n",
    "from astropy.table import Table "
   ]
  },
  {
   "cell_type": "code",
   "execution_count": 2,
   "metadata": {},
   "outputs": [],
   "source": [
    "df=Table(fits.getdata ('/Users/mgkadrmas/research/SMCquery2.fits.gz'))"
   ]
  },
  {
   "cell_type": "code",
   "execution_count": 3,
   "metadata": {},
   "outputs": [],
   "source": [
    "##### Center values\n",
    "#ra=13\n",
    "#dec=-73\n",
    "#rad=0.5"
   ]
  },
  {
   "cell_type": "code",
   "execution_count": 4,
   "metadata": {},
   "outputs": [],
   "source": [
    "gd=np.where(np.isfinite(df['bp_rp']) & np.isfinite(df['phot_g_mean_mag']))"
   ]
  },
  {
   "cell_type": "code",
   "execution_count": 5,
   "metadata": {},
   "outputs": [],
   "source": [
    "def onclick(event):\n",
    "    print('%s click: button=%d, x=%d, y=%d, xdata=%f, ydata=%f' %\n",
    "          ('double' if event.dblclick else 'single', event.button,\n",
    "           event.x, event.y, event.xdata, event.ydata))"
   ]
  },
  {
   "cell_type": "code",
   "execution_count": 7,
   "metadata": {},
   "outputs": [
    {
     "data": {
      "text/plain": [
       "6"
      ]
     },
     "execution_count": 7,
     "metadata": {},
     "output_type": "execute_result"
    },
    {
     "name": "stdout",
     "output_type": "stream",
     "text": [
      "single click: button=1, x=270, y=111, xdata=0.463849, ydata=19.267857\n",
      "single click: button=1, x=287, y=141, xdata=0.712431, ydata=18.375000\n",
      "single click: button=1, x=308, y=172, xdata=1.019504, ydata=17.452381\n",
      "single click: button=1, x=338, y=225, xdata=1.458179, ydata=15.875000\n",
      "single click: button=1, x=366, y=244, xdata=1.867609, ydata=15.309524\n",
      "single click: button=1, x=413, y=245, xdata=2.554867, ydata=15.279762\n",
      "single click: button=1, x=457, y=225, xdata=3.198257, ydata=15.875000\n",
      "single click: button=1, x=429, y=205, xdata=2.788827, ydata=16.470238\n",
      "single click: button=1, x=380, y=210, xdata=2.072324, ydata=16.321429\n",
      "single click: button=1, x=359, y=186, xdata=1.765252, ydata=17.035714\n",
      "single click: button=1, x=337, y=145, xdata=1.443557, ydata=18.255952\n",
      "single click: button=1, x=324, y=107, xdata=1.253464, ydata=19.386905\n",
      "single click: button=1, x=306, y=79, xdata=0.990259, ydata=20.220238\n",
      "single click: button=1, x=288, y=72, xdata=0.727054, ydata=20.428571\n",
      "single click: button=1, x=271, y=100, xdata=0.478471, ydata=19.595238\n"
     ]
    }
   ],
   "source": [
    "fig = plt.figure()\n",
    "plt.hist2d(df['bp_rp'][gd],df['phot_g_mean_mag'][gd],(200,200), norm=mpl.colors.LogNorm())\n",
    "plt.ylim([21,10])\n",
    "fig.canvas.mpl_connect('button_press_event', onclick)\n",
    "#%matplotlib qt"
   ]
  },
  {
   "cell_type": "code",
   "execution_count": 8,
   "metadata": {},
   "outputs": [],
   "source": [
    "def roi_cut(xcut,ycut,x,y):\n",
    "    \"\"\"\n",
    "    xcut : numpy array\n",
    "         Array of x-values for the cut\n",
    "    ycut : numpy array\n",
    "         Array of y-values for the cut\n",
    "    x : numpy array or list\n",
    "         Array of x-values that should be cut\n",
    "    y : numpy array or list\n",
    "         Array of y-values that should be cut\n",
    "\n",
    "    Returns\n",
    "    ind : numpy array\n",
    "       The indices of values OUTSIDE the cut\n",
    "    cutind : \n",
    "       The indices of values INSIDE the cut\n",
    "\n",
    "    \"\"\"\n",
    "\n",
    "    from matplotlib.path import Path\n",
    "    tupVerts = list(zip(xcut,ycut))\n",
    "    points = np.vstack((x,y)).T\n",
    "    p = Path(tupVerts) # make a polygon\n",
    "    inside = p.contains_points(points)\n",
    "    ind, = np.where(~inside)\n",
    "    cutind, = np.where(inside)\n",
    "\n",
    "    return ind, cutind\n",
    "    print (ind, cutind)\n",
    "\n"
   ]
  },
  {
   "cell_type": "code",
   "execution_count": 10,
   "metadata": {},
   "outputs": [],
   "source": [
    "xcut=[0.463849,0.712431,1.019504,1.458179,1.867609,2.554867,3.198257,2.788827,2.072324,1.765252,1.443557,1.253464,0.990259,0.727054,0.478471]\n",
    "ycut=[19.267857,18.375000,17.452381,15.875000,15.309524,15.279762,15.875000,16.470238,16.321429,17.035714,18.255952,19.386905,20.220238,20.428571,19.595238]\n",
    "x=df['bp_rp']\n",
    "y=df['phot_g_mean_mag']\n",
    "\n",
    "(ind, cutind) = roi_cut(xcut,ycut,x,y)\n"
   ]
  },
  {
   "cell_type": "code",
   "execution_count": 18,
   "metadata": {},
   "outputs": [
    {
     "data": {
      "text/plain": [
       "(21, 13)"
      ]
     },
     "execution_count": 18,
     "metadata": {},
     "output_type": "execute_result"
    },
    {
     "data": {
      "image/png": "[encoded data removed]",
      "text/plain": [
       "<Figure size 432x288 with 1 Axes>"
      ]
     },
     "metadata": {
      "needs_background": "light"
     },
     "output_type": "display_data"
    }
   ],
   "source": [
    "fig = plt.figure()\n",
    "plt.hist2d(df['bp_rp'][cutind],df['phot_g_mean_mag'][cutind],(200,200), [[0,4],[13,21]],norm=mpl.colors.LogNorm())\n",
    "plt.ylim([21,13])"
   ]
  },
  {
   "cell_type": "code",
   "execution_count": null,
   "metadata": {},
   "outputs": [],
   "source": []
  }
 ],
 "metadata": {
  "kernelspec": {
   "display_name": "Python 3",
   "language": "python",
   "name": "python3"
  },
  "language_info": {
   "codemirror_mode": {
    "name": "ipython",
    "version": 3
   },
   "file_extension": ".py",
   "mimetype": "text/x-python",
   "name": "python",
   "nbconvert_exporter": "python",
   "pygments_lexer": "ipython3",
   "version": "3.7.0"
  }
 },
 "nbformat": 4,
 "nbformat_minor": 2
}
