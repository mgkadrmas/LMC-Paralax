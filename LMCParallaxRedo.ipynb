{
 "cells": [
  {
   "cell_type": "code",
   "execution_count": 1,
   "metadata": {},
   "outputs": [],
   "source": [
    "import pylab as plt\n",
    "import numpy as np\n",
    "from astropy.io import fits\n",
    "import matplotlib as mpl\n",
    "import math\n",
    "import astropy.io.fits as fits\n",
    "from astropy.table import Table "
   ]
  },
  {
   "cell_type": "code",
   "execution_count": 2,
   "metadata": {},
   "outputs": [],
   "source": [
    "def roi_cut(xcut,ycut,x,y):\n",
    "    \"\"\"\n",
    "    xcut : numpy array\n",
    "         Array of x-values for the cut\n",
    "    ycut : numpy array\n",
    "         Array of y-values for the cut\n",
    "    x : numpy array or list\n",
    "         Array of x-values that should be cut\n",
    "    y : numpy array or list\n",
    "         Array of y-values that should be cut\n",
    "\n",
    "    Returns\n",
    "    ind : numpy array\n",
    "       The indices of values OUTSIDE the cut\n",
    "    cutind : \n",
    "       The indices of values INSIDE the cut\n",
    "\n",
    "    \"\"\"\n",
    "\n",
    "    from matplotlib.path import Path\n",
    "    tupVerts = list(zip(xcut,ycut))\n",
    "    points = np.vstack((x,y)).T\n",
    "    p = Path(tupVerts) # make a polygon\n",
    "    inside = p.contains_points(points)\n",
    "    ind, = np.where(~inside)\n",
    "    cutind, = np.where(inside)\n",
    "\n",
    "    return ind, cutind"
   ]
  },
  {
   "cell_type": "code",
   "execution_count": 7,
   "metadata": {},
   "outputs": [],
   "source": [
    "def LMCParallax (ra,dec,radius): \n",
    "    df=Table(fits.getdata ('/Users/mgkadrmas/research/LMCquery.fits.gz')) #query\n",
    "    xcut=[0.762097,0.883065,1.312500,1.372984,1.457661,1.633065,1.826613,2.008065,1.983871,1.536290,1.403226,1.197581,1.070565,0.810484] #define x coordinates of polygon\n",
    "    ycut=[19.049242,19.409091,19.465909,18.613636,17.856061,17.117424,16.473485,16.113636,15.469697,15.583333,16.303030,17.287879,17.969697,18.613636] #define y coordinates of polygon\n",
    "    x=df['bp_rp'] \n",
    "    y=df['phot_g_mean_mag']\n",
    "    (ind, cutind) = roi_cut(xcut,ycut,x,y) \n",
    "    df=df[cutind] #only data inside of the polygon!!\n",
    "    medpmra=np.nanmedian(df['pmra'])\n",
    "    medpmdec=np.nanmedian(df['pmdec'])\n",
    "    pndist=np.sqrt((df['pmra']-medpmra)**2 + (df['pmdec']-medpmdec)**2)\n",
    "    good= (np.abs(df['parallax'])<=0.2) & (pndist<=2.0)\n",
    "    medplx=np.nanmedian(df['parallax'][good])+0.030112982075019102 #right offset?\n",
    "    ngood=np.sum(good)\n",
    "    Sd= (1/ngood)*math.sqrt(sum((medplx-(df['parallax'][good]))**2)) #standard deviation of mean\n",
    "    sigma= (1/ngood)*np.sqrt(np.sum(df['parallax_error']**2)) #standard error of parallax\n",
    "    print(ra, dec, medplx)\n",
    "    return (ngood, medplx, Sd, sigma)\n",
    "    "
   ]
  },
  {
   "cell_type": "code",
   "execution_count": 8,
   "metadata": {},
   "outputs": [
    {
     "name": "stderr",
     "output_type": "stream",
     "text": [
      "/anaconda3/lib/python3.7/site-packages/astropy/table/column.py:965: RuntimeWarning: invalid value encountered in less_equal\n",
      "  return getattr(self.data, op)(other)\n"
     ]
    },
    {
     "name": "stdout",
     "output_type": "stream",
     "text": [
      "55 -80 0.03442405468903541\n",
      "55 -79 0.03442405468903541\n",
      "55 -78 0.03442405468903541\n",
      "55 -77 0.03442405468903541\n",
      "55 -76 0.03442405468903541\n",
      "55 -75 0.03442405468903541\n",
      "55 -74 0.03442405468903541\n"
     ]
    },
    {
     "ename": "KeyboardInterrupt",
     "evalue": "",
     "output_type": "error",
     "traceback": [
      "\u001b[0;31m---------------------------------------------------------------------------\u001b[0m",
      "\u001b[0;31mKeyboardInterrupt\u001b[0m                         Traceback (most recent call last)",
      "\u001b[0;32m<ipython-input-8-aaae60116dd7>\u001b[0m in \u001b[0;36m<module>\u001b[0;34m()\u001b[0m\n\u001b[1;32m      8\u001b[0m     \u001b[0;32mfor\u001b[0m \u001b[0mj\u001b[0m \u001b[0;32min\u001b[0m \u001b[0mrange\u001b[0m \u001b[0;34m(\u001b[0m\u001b[0;36m26\u001b[0m\u001b[0;34m)\u001b[0m\u001b[0;34m:\u001b[0m\u001b[0;34m\u001b[0m\u001b[0m\n\u001b[1;32m      9\u001b[0m         \u001b[0mdec\u001b[0m\u001b[0;34m=\u001b[0m\u001b[0mj\u001b[0m\u001b[0;34m-\u001b[0m\u001b[0;36m80\u001b[0m\u001b[0;34m\u001b[0m\u001b[0m\n\u001b[0;32m---> 10\u001b[0;31m         \u001b[0;34m(\u001b[0m\u001b[0mngood\u001b[0m\u001b[0;34m,\u001b[0m \u001b[0mmedplx\u001b[0m\u001b[0;34m,\u001b[0m \u001b[0mSd\u001b[0m\u001b[0;34m,\u001b[0m \u001b[0msigma\u001b[0m\u001b[0;34m)\u001b[0m \u001b[0;34m=\u001b[0m \u001b[0mLMCParallax\u001b[0m\u001b[0;34m(\u001b[0m\u001b[0mra\u001b[0m\u001b[0;34m,\u001b[0m\u001b[0mdec\u001b[0m\u001b[0;34m,\u001b[0m\u001b[0mradius\u001b[0m\u001b[0;34m)\u001b[0m\u001b[0;34m\u001b[0m\u001b[0m\n\u001b[0m\u001b[1;32m     11\u001b[0m         \u001b[0mcat\u001b[0m\u001b[0;34m[\u001b[0m\u001b[0mi\u001b[0m\u001b[0;34m,\u001b[0m\u001b[0mj\u001b[0m\u001b[0;34m]\u001b[0m\u001b[0;34m[\u001b[0m\u001b[0;34m'ra'\u001b[0m\u001b[0;34m]\u001b[0m\u001b[0;34m=\u001b[0m\u001b[0mra\u001b[0m\u001b[0;34m\u001b[0m\u001b[0m\n\u001b[1;32m     12\u001b[0m         \u001b[0mcat\u001b[0m\u001b[0;34m[\u001b[0m\u001b[0mi\u001b[0m\u001b[0;34m,\u001b[0m\u001b[0mj\u001b[0m\u001b[0;34m]\u001b[0m\u001b[0;34m[\u001b[0m\u001b[0;34m'dec'\u001b[0m\u001b[0;34m]\u001b[0m\u001b[0;34m=\u001b[0m\u001b[0mdec\u001b[0m\u001b[0;34m\u001b[0m\u001b[0m\n",
      "\u001b[0;32m<ipython-input-7-c0cf42473b2a>\u001b[0m in \u001b[0;36mLMCParallax\u001b[0;34m(ra, dec, radius)\u001b[0m\n\u001b[1;32m      1\u001b[0m \u001b[0;32mdef\u001b[0m \u001b[0mLMCParallax\u001b[0m \u001b[0;34m(\u001b[0m\u001b[0mra\u001b[0m\u001b[0;34m,\u001b[0m\u001b[0mdec\u001b[0m\u001b[0;34m,\u001b[0m\u001b[0mradius\u001b[0m\u001b[0;34m)\u001b[0m\u001b[0;34m:\u001b[0m\u001b[0;34m\u001b[0m\u001b[0m\n\u001b[0;32m----> 2\u001b[0;31m     \u001b[0mdf\u001b[0m\u001b[0;34m=\u001b[0m\u001b[0mTable\u001b[0m\u001b[0;34m(\u001b[0m\u001b[0mfits\u001b[0m\u001b[0;34m.\u001b[0m\u001b[0mgetdata\u001b[0m \u001b[0;34m(\u001b[0m\u001b[0;34m'/Users/mgkadrmas/research/LMCquery.fits.gz'\u001b[0m\u001b[0;34m)\u001b[0m\u001b[0;34m)\u001b[0m \u001b[0;31m#query\u001b[0m\u001b[0;34m\u001b[0m\u001b[0m\n\u001b[0m\u001b[1;32m      3\u001b[0m     \u001b[0mxcut\u001b[0m\u001b[0;34m=\u001b[0m\u001b[0;34m[\u001b[0m\u001b[0;36m0.762097\u001b[0m\u001b[0;34m,\u001b[0m\u001b[0;36m0.883065\u001b[0m\u001b[0;34m,\u001b[0m\u001b[0;36m1.312500\u001b[0m\u001b[0;34m,\u001b[0m\u001b[0;36m1.372984\u001b[0m\u001b[0;34m,\u001b[0m\u001b[0;36m1.457661\u001b[0m\u001b[0;34m,\u001b[0m\u001b[0;36m1.633065\u001b[0m\u001b[0;34m,\u001b[0m\u001b[0;36m1.826613\u001b[0m\u001b[0;34m,\u001b[0m\u001b[0;36m2.008065\u001b[0m\u001b[0;34m,\u001b[0m\u001b[0;36m1.983871\u001b[0m\u001b[0;34m,\u001b[0m\u001b[0;36m1.536290\u001b[0m\u001b[0;34m,\u001b[0m\u001b[0;36m1.403226\u001b[0m\u001b[0;34m,\u001b[0m\u001b[0;36m1.197581\u001b[0m\u001b[0;34m,\u001b[0m\u001b[0;36m1.070565\u001b[0m\u001b[0;34m,\u001b[0m\u001b[0;36m0.810484\u001b[0m\u001b[0;34m]\u001b[0m \u001b[0;31m#define x coordinates of polygon\u001b[0m\u001b[0;34m\u001b[0m\u001b[0m\n\u001b[1;32m      4\u001b[0m     \u001b[0mycut\u001b[0m\u001b[0;34m=\u001b[0m\u001b[0;34m[\u001b[0m\u001b[0;36m19.049242\u001b[0m\u001b[0;34m,\u001b[0m\u001b[0;36m19.409091\u001b[0m\u001b[0;34m,\u001b[0m\u001b[0;36m19.465909\u001b[0m\u001b[0;34m,\u001b[0m\u001b[0;36m18.613636\u001b[0m\u001b[0;34m,\u001b[0m\u001b[0;36m17.856061\u001b[0m\u001b[0;34m,\u001b[0m\u001b[0;36m17.117424\u001b[0m\u001b[0;34m,\u001b[0m\u001b[0;36m16.473485\u001b[0m\u001b[0;34m,\u001b[0m\u001b[0;36m16.113636\u001b[0m\u001b[0;34m,\u001b[0m\u001b[0;36m15.469697\u001b[0m\u001b[0;34m,\u001b[0m\u001b[0;36m15.583333\u001b[0m\u001b[0;34m,\u001b[0m\u001b[0;36m16.303030\u001b[0m\u001b[0;34m,\u001b[0m\u001b[0;36m17.287879\u001b[0m\u001b[0;34m,\u001b[0m\u001b[0;36m17.969697\u001b[0m\u001b[0;34m,\u001b[0m\u001b[0;36m18.613636\u001b[0m\u001b[0;34m]\u001b[0m \u001b[0;31m#define y coordinates of polygon\u001b[0m\u001b[0;34m\u001b[0m\u001b[0m\n\u001b[1;32m      5\u001b[0m     \u001b[0mx\u001b[0m\u001b[0;34m=\u001b[0m\u001b[0mdf\u001b[0m\u001b[0;34m[\u001b[0m\u001b[0;34m'bp_rp'\u001b[0m\u001b[0;34m]\u001b[0m\u001b[0;34m\u001b[0m\u001b[0m\n",
      "\u001b[0;32m/anaconda3/lib/python3.7/site-packages/astropy/table/table.py\u001b[0m in \u001b[0;36m__init__\u001b[0;34m(self, data, masked, names, dtype, meta, copy, rows, copy_indices, **kwargs)\u001b[0m\n\u001b[1;32m    406\u001b[0m \u001b[0;34m\u001b[0m\u001b[0m\n\u001b[1;32m    407\u001b[0m         \u001b[0;31m# Finally do the real initialization\u001b[0m\u001b[0;34m\u001b[0m\u001b[0;34m\u001b[0m\u001b[0m\n\u001b[0;32m--> 408\u001b[0;31m         \u001b[0minit_func\u001b[0m\u001b[0;34m(\u001b[0m\u001b[0mdata\u001b[0m\u001b[0;34m,\u001b[0m \u001b[0mnames\u001b[0m\u001b[0;34m,\u001b[0m \u001b[0mdtype\u001b[0m\u001b[0;34m,\u001b[0m \u001b[0mn_cols\u001b[0m\u001b[0;34m,\u001b[0m \u001b[0mcopy\u001b[0m\u001b[0;34m)\u001b[0m\u001b[0;34m\u001b[0m\u001b[0m\n\u001b[0m\u001b[1;32m    409\u001b[0m \u001b[0;34m\u001b[0m\u001b[0m\n\u001b[1;32m    410\u001b[0m         \u001b[0;31m# Whatever happens above, the masked property should be set to a boolean\u001b[0m\u001b[0;34m\u001b[0m\u001b[0;34m\u001b[0m\u001b[0m\n",
      "\u001b[0;32m/anaconda3/lib/python3.7/site-packages/astropy/table/table.py\u001b[0m in \u001b[0;36m_init_from_ndarray\u001b[0;34m(self, data, names, dtype, n_cols, copy)\u001b[0m\n\u001b[1;32m    696\u001b[0m         \u001b[0mnames\u001b[0m \u001b[0;34m=\u001b[0m \u001b[0;34m[\u001b[0m\u001b[0mname\u001b[0m \u001b[0;32mor\u001b[0m \u001b[0mdata_names\u001b[0m\u001b[0;34m[\u001b[0m\u001b[0mi\u001b[0m\u001b[0;34m]\u001b[0m \u001b[0;32mfor\u001b[0m \u001b[0mi\u001b[0m\u001b[0;34m,\u001b[0m \u001b[0mname\u001b[0m \u001b[0;32min\u001b[0m \u001b[0menumerate\u001b[0m\u001b[0;34m(\u001b[0m\u001b[0mnames\u001b[0m\u001b[0;34m)\u001b[0m\u001b[0;34m]\u001b[0m\u001b[0;34m\u001b[0m\u001b[0m\n\u001b[1;32m    697\u001b[0m \u001b[0;34m\u001b[0m\u001b[0m\n\u001b[0;32m--> 698\u001b[0;31m         cols = ([data[name] for name in data_names] if struct else\n\u001b[0m\u001b[1;32m    699\u001b[0m                 [data[:, i] for i in range(n_cols)])\n\u001b[1;32m    700\u001b[0m \u001b[0;34m\u001b[0m\u001b[0m\n",
      "\u001b[0;32m/anaconda3/lib/python3.7/site-packages/astropy/table/table.py\u001b[0m in \u001b[0;36m<listcomp>\u001b[0;34m(.0)\u001b[0m\n\u001b[1;32m    696\u001b[0m         \u001b[0mnames\u001b[0m \u001b[0;34m=\u001b[0m \u001b[0;34m[\u001b[0m\u001b[0mname\u001b[0m \u001b[0;32mor\u001b[0m \u001b[0mdata_names\u001b[0m\u001b[0;34m[\u001b[0m\u001b[0mi\u001b[0m\u001b[0;34m]\u001b[0m \u001b[0;32mfor\u001b[0m \u001b[0mi\u001b[0m\u001b[0;34m,\u001b[0m \u001b[0mname\u001b[0m \u001b[0;32min\u001b[0m \u001b[0menumerate\u001b[0m\u001b[0;34m(\u001b[0m\u001b[0mnames\u001b[0m\u001b[0;34m)\u001b[0m\u001b[0;34m]\u001b[0m\u001b[0;34m\u001b[0m\u001b[0m\n\u001b[1;32m    697\u001b[0m \u001b[0;34m\u001b[0m\u001b[0m\n\u001b[0;32m--> 698\u001b[0;31m         cols = ([data[name] for name in data_names] if struct else\n\u001b[0m\u001b[1;32m    699\u001b[0m                 [data[:, i] for i in range(n_cols)])\n\u001b[1;32m    700\u001b[0m \u001b[0;34m\u001b[0m\u001b[0m\n",
      "\u001b[0;32m/anaconda3/lib/python3.7/site-packages/astropy/io/fits/fitsrec.py\u001b[0m in \u001b[0;36m__getitem__\u001b[0;34m(self, key)\u001b[0m\n\u001b[1;32m    485\u001b[0m \u001b[0;34m\u001b[0m\u001b[0m\n\u001b[1;32m    486\u001b[0m         \u001b[0;32mif\u001b[0m \u001b[0misinstance\u001b[0m\u001b[0;34m(\u001b[0m\u001b[0mkey\u001b[0m\u001b[0;34m,\u001b[0m \u001b[0mstr\u001b[0m\u001b[0;34m)\u001b[0m\u001b[0;34m:\u001b[0m\u001b[0;34m\u001b[0m\u001b[0m\n\u001b[0;32m--> 487\u001b[0;31m             \u001b[0;32mreturn\u001b[0m \u001b[0mself\u001b[0m\u001b[0;34m.\u001b[0m\u001b[0mfield\u001b[0m\u001b[0;34m(\u001b[0m\u001b[0mkey\u001b[0m\u001b[0;34m)\u001b[0m\u001b[0;34m\u001b[0m\u001b[0m\n\u001b[0m\u001b[1;32m    488\u001b[0m \u001b[0;34m\u001b[0m\u001b[0m\n\u001b[1;32m    489\u001b[0m         \u001b[0;31m# Have to view as a recarray then back as a FITS_rec, otherwise the\u001b[0m\u001b[0;34m\u001b[0m\u001b[0;34m\u001b[0m\u001b[0m\n",
      "\u001b[0;32m/anaconda3/lib/python3.7/site-packages/astropy/io/fits/fitsrec.py\u001b[0m in \u001b[0;36mfield\u001b[0;34m(self, key)\u001b[0m\n\u001b[1;32m    675\u001b[0m         \u001b[0;31m# NOTE: The *column* index may not be the same as the field index in\u001b[0m\u001b[0;34m\u001b[0m\u001b[0;34m\u001b[0m\u001b[0m\n\u001b[1;32m    676\u001b[0m         \u001b[0;31m# the recarray, if the column is a phantom column\u001b[0m\u001b[0;34m\u001b[0m\u001b[0;34m\u001b[0m\u001b[0m\n\u001b[0;32m--> 677\u001b[0;31m         \u001b[0mcolumn\u001b[0m \u001b[0;34m=\u001b[0m \u001b[0mself\u001b[0m\u001b[0;34m.\u001b[0m\u001b[0mcolumns\u001b[0m\u001b[0;34m[\u001b[0m\u001b[0mkey\u001b[0m\u001b[0;34m]\u001b[0m\u001b[0;34m\u001b[0m\u001b[0m\n\u001b[0m\u001b[1;32m    678\u001b[0m         \u001b[0mname\u001b[0m \u001b[0;34m=\u001b[0m \u001b[0mcolumn\u001b[0m\u001b[0;34m.\u001b[0m\u001b[0mname\u001b[0m\u001b[0;34m\u001b[0m\u001b[0m\n\u001b[1;32m    679\u001b[0m         \u001b[0mformat\u001b[0m \u001b[0;34m=\u001b[0m \u001b[0mcolumn\u001b[0m\u001b[0;34m.\u001b[0m\u001b[0mformat\u001b[0m\u001b[0;34m\u001b[0m\u001b[0m\n",
      "\u001b[0;32m/anaconda3/lib/python3.7/site-packages/astropy/io/fits/column.py\u001b[0m in \u001b[0;36m__getitem__\u001b[0;34m(self, key)\u001b[0m\n\u001b[1;32m   1563\u001b[0m     \u001b[0;32mdef\u001b[0m \u001b[0m__getitem__\u001b[0m\u001b[0;34m(\u001b[0m\u001b[0mself\u001b[0m\u001b[0;34m,\u001b[0m \u001b[0mkey\u001b[0m\u001b[0;34m)\u001b[0m\u001b[0;34m:\u001b[0m\u001b[0;34m\u001b[0m\u001b[0m\n\u001b[1;32m   1564\u001b[0m         \u001b[0;32mif\u001b[0m \u001b[0misinstance\u001b[0m\u001b[0;34m(\u001b[0m\u001b[0mkey\u001b[0m\u001b[0;34m,\u001b[0m \u001b[0mstr\u001b[0m\u001b[0;34m)\u001b[0m\u001b[0;34m:\u001b[0m\u001b[0;34m\u001b[0m\u001b[0m\n\u001b[0;32m-> 1565\u001b[0;31m             \u001b[0mkey\u001b[0m \u001b[0;34m=\u001b[0m \u001b[0m_get_index\u001b[0m\u001b[0;34m(\u001b[0m\u001b[0mself\u001b[0m\u001b[0;34m.\u001b[0m\u001b[0mnames\u001b[0m\u001b[0;34m,\u001b[0m \u001b[0mkey\u001b[0m\u001b[0;34m)\u001b[0m\u001b[0;34m\u001b[0m\u001b[0m\n\u001b[0m\u001b[1;32m   1566\u001b[0m \u001b[0;34m\u001b[0m\u001b[0m\n\u001b[1;32m   1567\u001b[0m         \u001b[0mx\u001b[0m \u001b[0;34m=\u001b[0m \u001b[0mself\u001b[0m\u001b[0;34m.\u001b[0m\u001b[0mcolumns\u001b[0m\u001b[0;34m[\u001b[0m\u001b[0mkey\u001b[0m\u001b[0;34m]\u001b[0m\u001b[0;34m\u001b[0m\u001b[0m\n",
      "\u001b[0;32m/anaconda3/lib/python3.7/site-packages/astropy/io/fits/column.py\u001b[0m in \u001b[0;36m_get_index\u001b[0;34m(names, key)\u001b[0m\n\u001b[1;32m   1956\u001b[0m         \u001b[0;31m# try to find exact match first\u001b[0m\u001b[0;34m\u001b[0m\u001b[0;34m\u001b[0m\u001b[0m\n\u001b[1;32m   1957\u001b[0m         \u001b[0;32mtry\u001b[0m\u001b[0;34m:\u001b[0m\u001b[0;34m\u001b[0m\u001b[0m\n\u001b[0;32m-> 1958\u001b[0;31m             \u001b[0mindx\u001b[0m \u001b[0;34m=\u001b[0m \u001b[0mnames\u001b[0m\u001b[0;34m.\u001b[0m\u001b[0mindex\u001b[0m\u001b[0;34m(\u001b[0m\u001b[0mkey\u001b[0m\u001b[0;34m.\u001b[0m\u001b[0mrstrip\u001b[0m\u001b[0;34m(\u001b[0m\u001b[0;34m)\u001b[0m\u001b[0;34m)\u001b[0m\u001b[0;34m\u001b[0m\u001b[0m\n\u001b[0m\u001b[1;32m   1959\u001b[0m         \u001b[0;32mexcept\u001b[0m \u001b[0mValueError\u001b[0m\u001b[0;34m:\u001b[0m\u001b[0;34m\u001b[0m\u001b[0m\n\u001b[1;32m   1960\u001b[0m             \u001b[0;31m# try to match case-insentively,\u001b[0m\u001b[0;34m\u001b[0m\u001b[0;34m\u001b[0m\u001b[0m\n",
      "\u001b[0;31mKeyboardInterrupt\u001b[0m: "
     ]
    }
   ],
   "source": [
    "#expanded with a larger range: dec -80 to -55 #ra 55 to 110 \n",
    "\n",
    "radius=0.5\n",
    "dtype = np.dtype([('ra',float),('dec',float),('radius',float),('ngood',int),('parallax',float),('Sd',float),('sigma',float)])\n",
    "cat = np.zeros([56,26],dtype=dtype)\n",
    "for i in range (56):\n",
    "    ra=i+55\n",
    "    for j in range (26):\n",
    "        dec=j-80\n",
    "        (ngood, medplx, Sd, sigma) = LMCParallax(ra,dec,radius) \n",
    "        cat[i,j]['ra']=ra\n",
    "        cat[i,j]['dec']=dec\n",
    "        cat[i,j]['radius']=radius\n",
    "        cat[i,j]['ngood']=ngood\n",
    "        cat[i,j]['parallax']=medplx\n",
    "        cat[i,j]['Sd']=Sd\n",
    "        cat[i,j]['sigma']=sigma\n",
    "        "
   ]
  },
  {
   "cell_type": "code",
   "execution_count": null,
   "metadata": {},
   "outputs": [],
   "source": []
  }
 ],
 "metadata": {
  "kernelspec": {
   "display_name": "Python 3",
   "language": "python",
   "name": "python3"
  },
  "language_info": {
   "codemirror_mode": {
    "name": "ipython",
    "version": 3
   },
   "file_extension": ".py",
   "mimetype": "text/x-python",
   "name": "python",
   "nbconvert_exporter": "python",
   "pygments_lexer": "ipython3",
   "version": "3.7.0"
  }
 },
 "nbformat": 4,
 "nbformat_minor": 2
}
