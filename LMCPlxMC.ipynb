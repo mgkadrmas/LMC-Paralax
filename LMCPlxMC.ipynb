{
 "cells": [
  {
   "cell_type": "code",
   "execution_count": 2,
   "metadata": {},
   "outputs": [],
   "source": [
    "from dl import authClient as ac, queryClient as qc, storeClient as sc, helpers\n",
    "import pylab as plt\n",
    "import numpy as np\n",
    "from astropy.io import fits\n",
    "import matplotlib as mpl\n",
    "import math\n",
    "import astropy.io.fits as fits\n",
    "from astropy.table import Table, Column"
   ]
  },
  {
   "cell_type": "code",
   "execution_count": 3,
   "metadata": {},
   "outputs": [],
   "source": [
    "token=ac.login('mgkadrmas')"
   ]
  },
  {
   "cell_type": "code",
   "execution_count": 4,
   "metadata": {},
   "outputs": [],
   "source": [
    "df=Table(fits.getdata('LMCParallax4.fits'))\n",
    "df['Dist']=1/df['parallax']\n",
    "df['Disterror']=df['sigma']/(df['parallax']**2)"
   ]
  },
  {
   "cell_type": "code",
   "execution_count": 5,
   "metadata": {},
   "outputs": [],
   "source": [
    "chi2s=fits.getdata('4LMCParallaxChi2.fits')"
   ]
  },
  {
   "cell_type": "code",
   "execution_count": 6,
   "metadata": {},
   "outputs": [],
   "source": [
    "def InclineDiskDist(ra, dec, pa, io):\n",
    "    ra1 = np.copy(ra)\n",
    "    dec1 = np.copy(dec)\n",
    "    ra1 = np.radians(ra1)\n",
    "    dec1 = np.radians(dec1)\n",
    "    alph0 = np.radians(81.9) #np.radians(82.25) #ra of LMC center\n",
    "    delt0 = np.radians(-69.866667) #np.radians(-69.5) #dec of LMC center\n",
    "    sd = np.sin(delt0)\n",
    "    cd = np.cos(delt0)\n",
    "    d0 = 49.9\n",
    "    io = np.radians(io) #inclination #25.86\n",
    "    pa = np.radians(pa) #np.radians(149.37+90)  #position angle of line-of-nodes\n",
    "    cosr = cd*np.cos(dec1)*np.cos(ra1-alph0)+sd*np.sin(dec1)\n",
    "    sinrcosph = -np.cos(dec1)*np.sin(ra1-alph0)\n",
    "    sinrsinph = cd*np.sin(dec1)-sd*np.cos(dec1)*np.cos(ra1-alph0)\n",
    "    dist = d0*np.cos(io)/(np.cos(io)*cosr-np.sin(io)*np.cos(pa)*sinrsinph+np.sin(io)*np.sin(pa)*sinrcosph)\n",
    "    return dist\n",
    "\n",
    "def onclick(event):\n",
    "    print('%s click: button=%d, x=%d, y=%d, xdata=%f, ydata=%f' %\n",
    "          ('double' if event.dblclick else 'single', event.button,\n",
    "           event.x, event.y, event.xdata, event.ydata))\n",
    "    \n",
    "    \n",
    "    \n",
    "def roi_cut(xcut,ycut,x,y): \n",
    "    from matplotlib.path import Path\n",
    "    tupVerts = list(zip(xcut,ycut))\n",
    "    points = np.vstack((x,y)).T\n",
    "    p = Path(tupVerts) # make a polygon\n",
    "    inside = p.contains_points(points)\n",
    "    ind, = np.where(~inside)\n",
    "    cutind, = np.where(inside)\n",
    "    return ind, cutind\n",
    "    print (ind, cutind)"
   ]
  },
  {
   "cell_type": "code",
   "execution_count": 7,
   "metadata": {},
   "outputs": [],
   "source": [
    "xcut=[102.237903,99.022177,95.584677,90.372984,85.715726,75.625000,71.189516,67.752016,63.981855,62.207661,59.879032,58.770161,57.217742,56.219758,59.213710,63.870968,71.522177,78.840726,87.046371,93.256048,100.020161,103.014113,104.012097]\n",
    "ycut=[-64.938814,-63.151940,-61.439520,-59.801552,-58.312490,-58.238037,-58.461396,-59.429286,-60.173817,-62.109597,-65.385533,-68.512562,-71.490685,-75.138886,-76.851306,-77.893650,-78.489274,-78.191462,-78.191462,-77.521384,-75.362245,-72.458575,-68.438109]\n",
    "x=df['ra'].ravel()\n",
    "y=df['dec'].ravel()\n",
    "(ind, cutind) = roi_cut(xcut,ycut,x,y)\n"
   ]
  },
  {
   "cell_type": "code",
   "execution_count": 8,
   "metadata": {},
   "outputs": [
    {
     "name": "stdout",
     "output_type": "stream",
     "text": [
      "332.0 72.0\n"
     ]
    }
   ],
   "source": [
    "pos = np.argmin(chi2s['chi2val'].data)\n",
    "thetavals=chi2s['theta'].ravel()\n",
    "thetamod=thetavals[pos]\n",
    "inclinvals=chi2s['inclin'].ravel()\n",
    "inclinmod=inclinvals[pos]\n",
    "print(thetamod,inclinmod)"
   ]
  },
  {
   "cell_type": "code",
   "execution_count": 9,
   "metadata": {},
   "outputs": [],
   "source": [
    "pa= thetamod \n",
    "io= inclinmod\n",
    "dtype = np.dtype([('ra',float),('dec',float),('dist',float)])\n",
    "dcat = np.zeros([56,26], dtype=dtype)\n",
    "for i in range (56):\n",
    "    ra=i+55\n",
    "    for j in range (26):\n",
    "        dec=j-80\n",
    "        (dist) = InclineDiskDist(ra,dec,pa,io)\n",
    "        dcat[i,j]['ra']=ra\n",
    "        dcat[i,j]['dec']=dec\n",
    "        dcat[i,j]['dist']=dist"
   ]
  },
  {
   "cell_type": "code",
   "execution_count": 10,
   "metadata": {},
   "outputs": [],
   "source": [
    "dsigma= df['sigma'].ravel()/((df['parallax'].ravel()**2))\n",
    "dsigma=np.reshape(dsigma, (56,26))\n",
    "synth = dcat.copy()\n",
    "synth['dist'] = dcat['dist'] + np.random.randn(dcat.shape[0],dcat.shape[1])*dsigma"
   ]
  },
  {
   "cell_type": "code",
   "execution_count": 11,
   "metadata": {},
   "outputs": [],
   "source": [
    "def chi2(Dist, Distheory, Dsigma):\n",
    "    chii=((Dist - Distheory)**2)/((Dsigma)**2)\n",
    "    chi2=np.sum(chii)\n",
    "    return chi2"
   ]
  },
  {
   "cell_type": "code",
   "execution_count": 12,
   "metadata": {},
   "outputs": [],
   "source": [
    "Distmod=synth['dist']\n",
    "Dists=1/df['parallax']"
   ]
  },
  {
   "cell_type": "code",
   "execution_count": 12,
   "metadata": {},
   "outputs": [
    {
     "ename": "TypeError",
     "evalue": "chi2() missing 1 required positional argument: 'Dsigma'",
     "output_type": "error",
     "traceback": [
      "\u001b[0;31m---------------------------------------------------------------------------\u001b[0m",
      "\u001b[0;31mTypeError\u001b[0m                                 Traceback (most recent call last)",
      "\u001b[0;32m<ipython-input-12-c5e88cf161cc>\u001b[0m in \u001b[0;36m<module>\u001b[0;34m()\u001b[0m\n\u001b[1;32m      7\u001b[0m     \u001b[0mDistmod\u001b[0m\u001b[0;34m=\u001b[0m\u001b[0msynth\u001b[0m\u001b[0;34m[\u001b[0m\u001b[0;34m'dist'\u001b[0m\u001b[0;34m]\u001b[0m\u001b[0;34m\u001b[0m\u001b[0m\n\u001b[1;32m      8\u001b[0m     \u001b[0mDists\u001b[0m\u001b[0;34m=\u001b[0m\u001b[0;36m1\u001b[0m\u001b[0;34m/\u001b[0m\u001b[0mdf\u001b[0m\u001b[0;34m[\u001b[0m\u001b[0;34m'parallax'\u001b[0m\u001b[0;34m]\u001b[0m\u001b[0;34m\u001b[0m\u001b[0m\n\u001b[0;32m----> 9\u001b[0;31m     \u001b[0mchival\u001b[0m\u001b[0;34m=\u001b[0m\u001b[0mchi2\u001b[0m\u001b[0;34m(\u001b[0m\u001b[0mDists\u001b[0m\u001b[0;34m,\u001b[0m \u001b[0mDistmod\u001b[0m\u001b[0;34m)\u001b[0m\u001b[0;34m\u001b[0m\u001b[0m\n\u001b[0m\u001b[1;32m     10\u001b[0m     \u001b[0mchivals\u001b[0m\u001b[0;34m.\u001b[0m\u001b[0mappend\u001b[0m\u001b[0;34m(\u001b[0m\u001b[0mabs\u001b[0m\u001b[0;34m(\u001b[0m\u001b[0mchival\u001b[0m\u001b[0;34m)\u001b[0m\u001b[0;34m)\u001b[0m\u001b[0;34m\u001b[0m\u001b[0m\n",
      "\u001b[0;31mTypeError\u001b[0m: chi2() missing 1 required positional argument: 'Dsigma'"
     ]
    }
   ],
   "source": [
    "chivals=[]\n",
    "for i in range(100):\n",
    "    dsigma= df['sigma'].ravel()/((df['parallax'].ravel()**2))\n",
    "    dsigma=np.reshape(dsigma, (56,26))\n",
    "    synth = dcat.copy()\n",
    "    synth['dist'] = dcat['dist'] + np.random.randn(dcat.shape[0],dcat.shape[1])*dsigma\n",
    "    Distmod=synth['dist']\n",
    "    Dists=1/df['parallax']\n",
    "    chival=chi2(Dists, Distmod)\n",
    "    chivals.append(abs(chival))"
   ]
  },
  {
   "cell_type": "code",
   "execution_count": 13,
   "metadata": {},
   "outputs": [
    {
     "data": {
      "image/png": "[encoded data removed]",
      "text/plain": [
       "<Figure size 432x288 with 1 Axes>"
      ]
     },
     "metadata": {},
     "output_type": "display_data"
    }
   ],
   "source": [
    "plt.hist(chivals, bins=500)\n",
    "plt.xscale('log')"
   ]
  },
  {
   "cell_type": "code",
   "execution_count": 14,
   "metadata": {},
   "outputs": [
    {
     "ename": "TypeError",
     "evalue": "chi2() missing 1 required positional argument: 'Dsigma'",
     "output_type": "error",
     "traceback": [
      "\u001b[0;31m---------------------------------------------------------------------------\u001b[0m",
      "\u001b[0;31mTypeError\u001b[0m                                 Traceback (most recent call last)",
      "\u001b[0;32m<ipython-input-14-01cb80521709>\u001b[0m in \u001b[0;36m<module>\u001b[0;34m()\u001b[0m\n\u001b[1;32m     25\u001b[0m         \u001b[0msynth\u001b[0m \u001b[0;34m=\u001b[0m \u001b[0mcat\u001b[0m\u001b[0;34m.\u001b[0m\u001b[0mcopy\u001b[0m\u001b[0;34m(\u001b[0m\u001b[0;34m)\u001b[0m\u001b[0;34m\u001b[0m\u001b[0m\n\u001b[1;32m     26\u001b[0m         \u001b[0msynth\u001b[0m\u001b[0;34m[\u001b[0m\u001b[0;34m'distheory'\u001b[0m\u001b[0;34m]\u001b[0m \u001b[0;34m=\u001b[0m \u001b[0mcat\u001b[0m\u001b[0;34m[\u001b[0m\u001b[0;34m'distheory'\u001b[0m\u001b[0;34m]\u001b[0m \u001b[0;34m+\u001b[0m \u001b[0mnp\u001b[0m\u001b[0;34m.\u001b[0m\u001b[0mrandom\u001b[0m\u001b[0;34m.\u001b[0m\u001b[0mrandn\u001b[0m\u001b[0;34m(\u001b[0m\u001b[0mdcat\u001b[0m\u001b[0;34m.\u001b[0m\u001b[0mshape\u001b[0m\u001b[0;34m[\u001b[0m\u001b[0;36m0\u001b[0m\u001b[0;34m]\u001b[0m\u001b[0;34m,\u001b[0m\u001b[0mdcat\u001b[0m\u001b[0;34m.\u001b[0m\u001b[0mshape\u001b[0m\u001b[0;34m[\u001b[0m\u001b[0;36m1\u001b[0m\u001b[0;34m]\u001b[0m\u001b[0;34m)\u001b[0m\u001b[0;34m*\u001b[0m\u001b[0mdsigma\u001b[0m\u001b[0;34m\u001b[0m\u001b[0m\n\u001b[0;32m---> 27\u001b[0;31m         \u001b[0mchi2val\u001b[0m \u001b[0;34m=\u001b[0m \u001b[0mchi2\u001b[0m\u001b[0;34m(\u001b[0m\u001b[0mDists\u001b[0m\u001b[0;34m,\u001b[0m \u001b[0msynth\u001b[0m\u001b[0;34m[\u001b[0m\u001b[0;34m'distheory'\u001b[0m\u001b[0;34m]\u001b[0m\u001b[0;34m)\u001b[0m\u001b[0;34m\u001b[0m\u001b[0m\n\u001b[0m\u001b[1;32m     28\u001b[0m         \u001b[0mchi2s\u001b[0m\u001b[0;34m[\u001b[0m\u001b[0mi\u001b[0m\u001b[0;34m,\u001b[0m\u001b[0mj\u001b[0m\u001b[0;34m]\u001b[0m\u001b[0;34m[\u001b[0m\u001b[0;34m'theta'\u001b[0m\u001b[0;34m]\u001b[0m\u001b[0;34m=\u001b[0m\u001b[0mtheta\u001b[0m\u001b[0;34m\u001b[0m\u001b[0m\n\u001b[1;32m     29\u001b[0m         \u001b[0mchi2s\u001b[0m\u001b[0;34m[\u001b[0m\u001b[0mi\u001b[0m\u001b[0;34m,\u001b[0m\u001b[0mj\u001b[0m\u001b[0;34m]\u001b[0m\u001b[0;34m[\u001b[0m\u001b[0;34m'inclin'\u001b[0m\u001b[0;34m]\u001b[0m\u001b[0;34m=\u001b[0m\u001b[0minclin\u001b[0m\u001b[0;34m\u001b[0m\u001b[0m\n",
      "\u001b[0;31mTypeError\u001b[0m: chi2() missing 1 required positional argument: 'Dsigma'"
     ]
    }
   ],
   "source": [
    "racenter=81.9\n",
    "deccenter= -69.866667\n",
    "distcenter=49\n",
    "\n",
    "Dists=1/df['parallax']\n",
    "dsigma= df['sigma']/((df['parallax']**2))\n",
    "dsigma=np.reshape(dsigma, (56,26))\n",
    "\n",
    "chitype = np.dtype([('theta',float),('inclin',float),('chi2val',float)])\n",
    "chi2s = np.zeros([170,90], dtype=chitype)\n",
    "for i in range (170):\n",
    "    theta=i+191\n",
    "    for j in range (90):\n",
    "        inclin=j-17\n",
    "        dtype=np.dtype([('ra',float),('dec',float),('distheory',float)])\n",
    "        cat = np.zeros([56,26], dtype=dtype)\n",
    "        for x in range (56):\n",
    "            ra=x+55\n",
    "            for y in range (26):\n",
    "                dec=y-80\n",
    "                (distheory) = InclineDiskDist(ra,dec,theta,inclin)\n",
    "                cat[x,y]['ra']=ra\n",
    "                cat[x,y]['dec']=dec\n",
    "                cat[x,y]['distheory']=distheory\n",
    "        synth = cat.copy()\n",
    "        synth['distheory'] = cat['distheory'] + np.random.randn(dcat.shape[0],dcat.shape[1])*dsigma\n",
    "        chi2val = chi2(Dists, synth['distheory'])\n",
    "        chi2s[i,j]['theta']=theta\n",
    "        chi2s[i,j]['inclin']=inclin\n",
    "        chi2s[i,j]['chi2val']=chi2val\n",
    "\n",
    "pos = np.argmin(chi2s['chi2val'].data)\n",
    "thetavals=chi2s['theta'].ravel()\n",
    "thetamod=thetavals[pos]\n",
    "inclinvals=chi2s['inclin'].ravel()\n",
    "inclinmod=inclinvals[pos]\n",
    "print(thetamod,inclinmod)\n"
   ]
  },
  {
   "cell_type": "code",
   "execution_count": 15,
   "metadata": {},
   "outputs": [
    {
     "ename": "TypeError",
     "evalue": "chi2() missing 1 required positional argument: 'Dsigma'",
     "output_type": "error",
     "traceback": [
      "\u001b[0;31m---------------------------------------------------------------------------\u001b[0m",
      "\u001b[0;31mTypeError\u001b[0m                                 Traceback (most recent call last)",
      "\u001b[0;32m<ipython-input-15-0fd97388c196>\u001b[0m in \u001b[0;36m<module>\u001b[0;34m()\u001b[0m\n\u001b[1;32m     29\u001b[0m             \u001b[0msynth\u001b[0m \u001b[0;34m=\u001b[0m \u001b[0mcat\u001b[0m\u001b[0;34m.\u001b[0m\u001b[0mcopy\u001b[0m\u001b[0;34m(\u001b[0m\u001b[0;34m)\u001b[0m\u001b[0;34m\u001b[0m\u001b[0m\n\u001b[1;32m     30\u001b[0m             \u001b[0msynth\u001b[0m\u001b[0;34m[\u001b[0m\u001b[0;34m'distheory'\u001b[0m\u001b[0;34m]\u001b[0m \u001b[0;34m=\u001b[0m \u001b[0mcat\u001b[0m\u001b[0;34m[\u001b[0m\u001b[0;34m'distheory'\u001b[0m\u001b[0;34m]\u001b[0m \u001b[0;34m+\u001b[0m \u001b[0mnp\u001b[0m\u001b[0;34m.\u001b[0m\u001b[0mrandom\u001b[0m\u001b[0;34m.\u001b[0m\u001b[0mrandn\u001b[0m\u001b[0;34m(\u001b[0m\u001b[0mdcat\u001b[0m\u001b[0;34m.\u001b[0m\u001b[0mshape\u001b[0m\u001b[0;34m[\u001b[0m\u001b[0;36m0\u001b[0m\u001b[0;34m]\u001b[0m\u001b[0;34m,\u001b[0m\u001b[0mdcat\u001b[0m\u001b[0;34m.\u001b[0m\u001b[0mshape\u001b[0m\u001b[0;34m[\u001b[0m\u001b[0;36m1\u001b[0m\u001b[0;34m]\u001b[0m\u001b[0;34m)\u001b[0m\u001b[0;34m*\u001b[0m\u001b[0mdsigma\u001b[0m\u001b[0;34m\u001b[0m\u001b[0m\n\u001b[0;32m---> 31\u001b[0;31m             \u001b[0mchi2val\u001b[0m \u001b[0;34m=\u001b[0m \u001b[0mchi2\u001b[0m\u001b[0;34m(\u001b[0m\u001b[0mDists\u001b[0m\u001b[0;34m,\u001b[0m \u001b[0msynth\u001b[0m\u001b[0;34m[\u001b[0m\u001b[0;34m'distheory'\u001b[0m\u001b[0;34m]\u001b[0m\u001b[0;34m)\u001b[0m\u001b[0;34m\u001b[0m\u001b[0m\n\u001b[0m\u001b[1;32m     32\u001b[0m             \u001b[0mchi2s\u001b[0m\u001b[0;34m[\u001b[0m\u001b[0mi\u001b[0m\u001b[0;34m,\u001b[0m\u001b[0mj\u001b[0m\u001b[0;34m]\u001b[0m\u001b[0;34m[\u001b[0m\u001b[0;34m'theta'\u001b[0m\u001b[0;34m]\u001b[0m\u001b[0;34m=\u001b[0m\u001b[0mtheta\u001b[0m\u001b[0;34m\u001b[0m\u001b[0m\n\u001b[1;32m     33\u001b[0m             \u001b[0mchi2s\u001b[0m\u001b[0;34m[\u001b[0m\u001b[0mi\u001b[0m\u001b[0;34m,\u001b[0m\u001b[0mj\u001b[0m\u001b[0;34m]\u001b[0m\u001b[0;34m[\u001b[0m\u001b[0;34m'inclin'\u001b[0m\u001b[0;34m]\u001b[0m\u001b[0;34m=\u001b[0m\u001b[0minclin\u001b[0m\u001b[0;34m\u001b[0m\u001b[0m\n",
      "\u001b[0;31mTypeError\u001b[0m: chi2() missing 1 required positional argument: 'Dsigma'"
     ]
    }
   ],
   "source": [
    "dtype=np.dtype([('thetamod',float),('inclinmod',float)])\n",
    "MC = np.zeros(10, dtype=dtype)\n",
    "\n",
    "racenter=81.9\n",
    "deccenter= -69.866667\n",
    "distcenter=49\n",
    "\n",
    "Dists=1/df['parallax']\n",
    "dsigma= df['sigma']/((df['parallax']**2))\n",
    "dsigma=np.reshape(dsigma, (56,26))\n",
    "\n",
    "for t in range(10):\n",
    "    chitype = np.dtype([('theta',float),('inclin',float),('chi2val',float)])\n",
    "    chi2s = np.zeros([170,90], dtype=chitype)\n",
    "    for i in range (170):\n",
    "        theta=i+191\n",
    "        for j in range (90):\n",
    "            inclin=j-17\n",
    "            dtype=np.dtype([('ra',float),('dec',float),('distheory',float)])\n",
    "            cat = np.zeros([56,26], dtype=dtype)\n",
    "            for x in range (56):\n",
    "                ra=x+55\n",
    "                for y in range (26):\n",
    "                    dec=y-80\n",
    "                    (distheory) = InclineDiskDist(ra,dec,theta,inclin)\n",
    "                    cat[x,y]['ra']=ra\n",
    "                    cat[x,y]['dec']=dec\n",
    "                    cat[x,y]['distheory']=distheory\n",
    "            synth = cat.copy()\n",
    "            synth['distheory'] = cat['distheory'] + np.random.randn(dcat.shape[0],dcat.shape[1])*dsigma\n",
    "            chi2val = chi2(Dists, synth['distheory'])\n",
    "            chi2s[i,j]['theta']=theta\n",
    "            chi2s[i,j]['inclin']=inclin\n",
    "            chi2s[i,j]['chi2val']=chi2val\n",
    "\n",
    "    pos = np.argmin(chi2s['chi2val'].data)\n",
    "    thetavals=chi2s['theta'].ravel()\n",
    "    thetamod=thetavals[pos]\n",
    "    inclinvals=chi2s['inclin'].ravel()\n",
    "    inclinmod=inclinvals[pos]\n",
    "    MC[t]['thetamod']=thetamod\n",
    "    MC[t]['inclinmod']=inclinmod\n",
    "    \n",
    "MC = Table(MC)\n",
    "MC.write('LMCPlxMC1.fits', format='fits')"
   ]
  },
  {
   "cell_type": "code",
   "execution_count": 13,
   "metadata": {},
   "outputs": [],
   "source": [
    "def findbestdiskmodel(cat): \n",
    "    chitype = np.dtype([('theta',float),('inclin',float),('chi2val',float)])\n",
    "    chi2s = np.zeros([170,90], dtype=chitype)\n",
    "    for i in range (170):\n",
    "        theta=i+191\n",
    "        for j in range (90):\n",
    "            inclin=j-17\n",
    "            model = creatediskmodel(theta, inclin)\n",
    "            chi2val = chi2(cat['Dist'], model['distheory'], cat['Disterror'])\n",
    "            chi2s[i,j]['theta']=theta\n",
    "            chi2s[i,j]['inclin']=inclin\n",
    "            chi2s[i,j]['chi2val']=chi2val\n",
    "    pos = np.argmin(chi2s['chi2val'].data)\n",
    "    thetavals=chi2s['theta'].ravel()\n",
    "    thetamod=thetavals[pos]\n",
    "    inclinvals=chi2s['inclin'].ravel()\n",
    "    inclinmod=inclinvals[pos]\n",
    "    return (thetamod, inclinmod)\n"
   ]
  },
  {
   "cell_type": "code",
   "execution_count": 14,
   "metadata": {},
   "outputs": [],
   "source": [
    "def creatediskmodel(theta, inclin):\n",
    "    dtype=np.dtype([('ra',float),('dec',float),('distheory',float)])\n",
    "    cat = np.zeros([56,26], dtype=dtype)\n",
    "    for x in range (56):\n",
    "        ra=x+55\n",
    "        for y in range (26):\n",
    "            dec=y-80\n",
    "            (distheory) = InclineDiskDist(ra,dec,theta,inclin)\n",
    "            cat[x,y]['ra']=ra\n",
    "            cat[x,y]['dec']=dec\n",
    "            cat[x,y]['distheory']=distheory\n",
    "    return cat"
   ]
  },
  {
   "cell_type": "code",
   "execution_count": null,
   "metadata": {},
   "outputs": [],
   "source": [
    "dtype=np.dtype([('theta',float),('inclin',float)])\n",
    "MC = np.zeros(100, dtype=dtype)\n",
    "\n",
    "model = creatediskmodel(332, 72)\n",
    "\n",
    "for t in range(100):\n",
    "    synth = df.copy()\n",
    "    synth['Dist'] = model['distheory'] + np.random.randn(dcat.shape[0],dcat.shape[1])*df['Disterror']\n",
    "    synth['Disterror'] = df['Disterror']\n",
    "    theta, inclin = findbestdiskmodel(synth)\n",
    "    MC[t]['theta'] = theta\n",
    "    MC[t]['inclin'] = inclin\n",
    "\n",
    "MC = Table(MC)\n",
    "MC.write('LMCPlxMCbig1.fits', format='fits')\n",
    "###Find Standard deviation of inclin and theta values np.std\n"
   ]
  },
  {
   "cell_type": "code",
   "execution_count": 15,
   "metadata": {},
   "outputs": [],
   "source": [
    "MC=fits.getdata('LMCPlxMCbig1.fits')"
   ]
  },
  {
   "cell_type": "code",
   "execution_count": 17,
   "metadata": {},
   "outputs": [
    {
     "data": {
      "text/plain": [
       "array([72., 72., 72., 72., 72., 72., 72., 72., 72., 72., 72., 72., 72.,\n",
       "       72., 72., 72., 72., 72., 72., 72., 72., 72., 72., 72., 72., 72.,\n",
       "       72., 72., 72., 72., 72., 72., 72., 72., 72., 72., 72., 72., 72.,\n",
       "       72., 72., 72., 72., 72., 72., 72., 72., 72., 72., 72., 72., 72.,\n",
       "       72., 72., 72., 72., 72., 72., 72., 72., 72., 72., 72., 72., 72.,\n",
       "       72., 72., 72., 72., 72., 72., 72., 72., 72., 72., 72., 72., 72.,\n",
       "       72., 72., 72., 72., 72., 72., 72., 72., 72., 72., 72., 72., 72.,\n",
       "       72., 72., 72., 72., 72., 72., 72., 72., 72.])"
      ]
     },
     "execution_count": 17,
     "metadata": {},
     "output_type": "execute_result"
    }
   ],
   "source": [
    "MC['inclin']"
   ]
  },
  {
   "cell_type": "code",
   "execution_count": 18,
   "metadata": {},
   "outputs": [
    {
     "data": {
      "text/plain": [
       "array([332., 332., 332., 332., 332., 332., 332., 332., 332., 332., 332.,\n",
       "       332., 332., 332., 332., 332., 332., 332., 332., 332., 332., 332.,\n",
       "       332., 332., 332., 332., 332., 332., 332., 332., 332., 332., 332.,\n",
       "       332., 332., 332., 332., 332., 332., 332., 332., 332., 332., 332.,\n",
       "       332., 332., 332., 332., 332., 332., 332., 332., 332., 332., 332.,\n",
       "       332., 332., 332., 332., 332., 332., 332., 332., 332., 332., 332.,\n",
       "       332., 332., 332., 332., 332., 332., 332., 332., 332., 332., 332.,\n",
       "       332., 332., 332., 332., 332., 332., 332., 332., 332., 332., 332.,\n",
       "       332., 332., 332., 332., 332., 332., 332., 332., 332., 332., 332.,\n",
       "       332.])"
      ]
     },
     "execution_count": 18,
     "metadata": {},
     "output_type": "execute_result"
    }
   ],
   "source": [
    "MC['theta']"
   ]
  },
  {
   "cell_type": "code",
   "execution_count": null,
   "metadata": {},
   "outputs": [],
   "source": []
  }
 ],
 "metadata": {
  "kernelspec": {
   "display_name": "Python 3",
   "language": "python",
   "name": "python3"
  },
  "language_info": {
   "codemirror_mode": {
    "name": "ipython",
    "version": 3
   },
   "file_extension": ".py",
   "mimetype": "text/x-python",
   "name": "python",
   "nbconvert_exporter": "python",
   "pygments_lexer": "ipython3",
   "version": "3.6.5"
  }
 },
 "nbformat": 4,
 "nbformat_minor": 2
}
