{
 "cells": [
  {
   "cell_type": "code",
   "execution_count": 1,
   "metadata": {},
   "outputs": [],
   "source": [
    "import pylab as plt\n",
    "import numpy as np\n",
    "from astropy.io import fits\n",
    "import matplotlib as mpl\n",
    "import math\n",
    "import astropy.io.fits as fits\n",
    "from astropy.table import Table "
   ]
  },
  {
   "cell_type": "code",
   "execution_count": 2,
   "metadata": {},
   "outputs": [],
   "source": [
    "df=Table(fits.getdata ('/Users/mgkadrmas/research/LMCquery.fits.gz'))"
   ]
  },
  {
   "cell_type": "code",
   "execution_count": 3,
   "metadata": {},
   "outputs": [
    {
     "name": "stdout",
     "output_type": "stream",
     "text": [
      "   bp_rp   \n",
      "-----------\n",
      "   2.277237\n",
      "        nan\n",
      "  0.6065006\n",
      "   1.407896\n",
      " 0.99051476\n",
      "  0.5655155\n",
      "-0.09762192\n",
      "  0.2900467\n",
      "  1.1290417\n",
      "        nan\n",
      "        ...\n",
      "  1.3025856\n",
      "0.008384705\n",
      "  1.1897736\n",
      "  0.3356266\n",
      " 0.78585243\n",
      "  1.1441746\n",
      "  1.0645771\n",
      "  1.1285095\n",
      "  0.5766258\n",
      "  1.1788254\n",
      " 0.15788269\n",
      "Length = 22267 rows\n"
     ]
    }
   ],
   "source": [
    "print(df['bp_rp'])"
   ]
  },
  {
   "cell_type": "code",
   "execution_count": 4,
   "metadata": {},
   "outputs": [],
   "source": [
    "gd=np.where(np.isfinite(df['bp_rp']) & np.isfinite(df['phot_g_mean_mag']))"
   ]
  },
  {
   "cell_type": "code",
   "execution_count": 5,
   "metadata": {},
   "outputs": [],
   "source": [
    "def onclick(event):\n",
    "    print('%s click: button=%d, x=%d, y=%d, xdata=%f, ydata=%f' %\n",
    "          ('double' if event.dblclick else 'single', event.button,\n",
    "           event.x, event.y, event.xdata, event.ydata))"
   ]
  },
  {
   "cell_type": "code",
   "execution_count": 9,
   "metadata": {},
   "outputs": [
    {
     "data": {
      "text/plain": [
       "6"
      ]
     },
     "execution_count": 9,
     "metadata": {},
     "output_type": "execute_result"
    },
    {
     "name": "stdout",
     "output_type": "stream",
     "text": [
      "single click: button=1, x=206, y=103, xdata=0.762097, ydata=19.049242\n",
      "single click: button=1, x=226, y=84, xdata=0.883065, ydata=19.409091\n",
      "single click: button=1, x=297, y=81, xdata=1.312500, ydata=19.465909\n",
      "single click: button=1, x=307, y=126, xdata=1.372984, ydata=18.613636\n",
      "single click: button=1, x=321, y=166, xdata=1.457661, ydata=17.856061\n",
      "single click: button=1, x=350, y=205, xdata=1.633065, ydata=17.117424\n",
      "single click: button=1, x=382, y=239, xdata=1.826613, ydata=16.473485\n",
      "single click: button=1, x=412, y=258, xdata=2.008065, ydata=16.113636\n",
      "single click: button=1, x=408, y=292, xdata=1.983871, ydata=15.469697\n",
      "single click: button=1, x=334, y=286, xdata=1.536290, ydata=15.583333\n",
      "single click: button=1, x=312, y=248, xdata=1.403226, ydata=16.303030\n",
      "single click: button=1, x=278, y=196, xdata=1.197581, ydata=17.287879\n",
      "single click: button=1, x=257, y=160, xdata=1.070565, ydata=17.969697\n",
      "single click: button=1, x=214, y=126, xdata=0.810484, ydata=18.613636\n"
     ]
    },
    {
     "name": "stderr",
     "output_type": "stream",
     "text": [
      "Traceback (most recent call last):\n",
      "  File \"/anaconda3/lib/python3.7/site-packages/matplotlib/cbook/__init__.py\", line 387, in process\n",
      "    proxy(*args, **kwargs)\n",
      "  File \"/anaconda3/lib/python3.7/site-packages/matplotlib/cbook/__init__.py\", line 227, in __call__\n",
      "    return mtd(*args, **kwargs)\n",
      "  File \"<ipython-input-5-476a5fd096a7>\", line 4, in onclick\n",
      "    event.x, event.y, event.xdata, event.ydata))\n",
      "TypeError: must be real number, not NoneType\n"
     ]
    }
   ],
   "source": [
    "fig = plt.figure()\n",
    "plt.hist2d(df['bp_rp'][gd],df['phot_g_mean_mag'][gd],(200,200), [[0,3],[13,20]],norm=mpl.colors.LogNorm())\n",
    "plt.ylim([20,13])\n",
    "fig.canvas.mpl_connect('button_press_event', onclick)\n"
   ]
  },
  {
   "cell_type": "code",
   "execution_count": 7,
   "metadata": {},
   "outputs": [],
   "source": [
    "def roi_cut(xcut,ycut,x,y):\n",
    "\n",
    "    \"\"\"\n",
    "\n",
    "    Use cuts in a 2D plane to select points from arrays.\n",
    "\n",
    "    Parameters\n",
    "\n",
    "    ----------\n",
    "\n",
    "    xcut : numpy array\n",
    "\n",
    "         Array of x-values for the cut\n",
    "\n",
    "    ycut : numpy array\n",
    "\n",
    "         Array of y-values for the cut\n",
    "\n",
    "    x : numpy array or list\n",
    "\n",
    "         Array of x-values that should be cut\n",
    "\n",
    "    y : numpy array or list\n",
    "\n",
    "         Array of y-values that should be cut\n",
    "\n",
    "    Returns\n",
    "\n",
    "    -------\n",
    "\n",
    "    ind : numpy array\n",
    "\n",
    "       The indices of values OUTSIDE the cut\n",
    "\n",
    "    cutind : \n",
    "\n",
    "       The indices of values INSIDE the cut\n",
    "\n",
    "    Example\n",
    "\n",
    "    -------\n",
    "\n",
    "    .. code-block:: python\n",
    "\n",
    "        ind, cutind = roi_cut(xcut,ycut,x,y)\n",
    "\n",
    "    \"\"\"\n",
    "\n",
    "    from matplotlib.path import Path\n",
    "    tupVerts = list(zip(xcut,ycut))\n",
    "    points = np.vstack((x,y)).T\n",
    "    p = Path(tupVerts) # make a polygon\n",
    "    inside = p.contains_points(points)\n",
    "    ind, = np.where(~inside)\n",
    "    cutind, = np.where(inside)\n",
    "\n",
    "    return ind, cutind\n",
    "\n",
    "\n"
   ]
  },
  {
   "cell_type": "code",
   "execution_count": 16,
   "metadata": {},
   "outputs": [
    {
     "ename": "IndexError",
     "evalue": "only integers, slices (`:`), ellipsis (`...`), numpy.newaxis (`None`) and integer or boolean arrays are valid indices",
     "output_type": "error",
     "traceback": [
      "\u001b[0;31m---------------------------------------------------------------------------\u001b[0m",
      "\u001b[0;31mIndexError\u001b[0m                                Traceback (most recent call last)",
      "\u001b[0;32m<ipython-input-16-9f03ed0be3fa>\u001b[0m in \u001b[0;36m<module>\u001b[0;34m()\u001b[0m\n\u001b[1;32m     11\u001b[0m         \u001b[0mycut\u001b[0m\u001b[0;34m=\u001b[0m\u001b[0mj\u001b[0m\u001b[0;34m\u001b[0m\u001b[0m\n\u001b[1;32m     12\u001b[0m         \u001b[0;34m(\u001b[0m\u001b[0mind\u001b[0m\u001b[0;34m,\u001b[0m \u001b[0mcutind\u001b[0m\u001b[0;34m)\u001b[0m \u001b[0;34m=\u001b[0m \u001b[0mroi_cut\u001b[0m\u001b[0;34m(\u001b[0m\u001b[0mxcut\u001b[0m\u001b[0;34m,\u001b[0m\u001b[0mycut\u001b[0m\u001b[0;34m,\u001b[0m\u001b[0mx\u001b[0m\u001b[0;34m,\u001b[0m\u001b[0my\u001b[0m\u001b[0;34m)\u001b[0m\u001b[0;34m\u001b[0m\u001b[0m\n\u001b[0;32m---> 13\u001b[0;31m         \u001b[0mcat\u001b[0m\u001b[0;34m[\u001b[0m\u001b[0mi\u001b[0m\u001b[0;34m,\u001b[0m\u001b[0mj\u001b[0m\u001b[0;34m]\u001b[0m\u001b[0;34m[\u001b[0m\u001b[0;34m'ind'\u001b[0m\u001b[0;34m]\u001b[0m\u001b[0;34m=\u001b[0m\u001b[0mind\u001b[0m\u001b[0;34m\u001b[0m\u001b[0m\n\u001b[0m\u001b[1;32m     14\u001b[0m         \u001b[0mcat\u001b[0m\u001b[0;34m[\u001b[0m\u001b[0mi\u001b[0m\u001b[0;34m,\u001b[0m\u001b[0mj\u001b[0m\u001b[0;34m]\u001b[0m\u001b[0;34m[\u001b[0m\u001b[0;34m'cutind'\u001b[0m\u001b[0;34m]\u001b[0m\u001b[0;34m=\u001b[0m\u001b[0mcutind\u001b[0m\u001b[0;34m\u001b[0m\u001b[0m\n",
      "\u001b[0;31mIndexError\u001b[0m: only integers, slices (`:`), ellipsis (`...`), numpy.newaxis (`None`) and integer or boolean arrays are valid indices"
     ]
    }
   ],
   "source": [
    "x=[0.762097,0.883065,1.312500,1.372984,1.457661,1.633065,1.826613,2.008065,1.983871,1.536290,1.403226,1.197581,1.070565,0.810484]\n",
    "y=[19.049242,19.409091,19.465909,18.613636,17.856061,17.117424,16.473485,16.113636,15.469697,15.583333,16.303030,17.287879,17.969697,18.613636]\n",
    "xcut=df['bp_rp']\n",
    "ycut=df['phot_g_mean_mag']\n",
    "\n",
    "dtype = np.dtype([('x',float),('y',float),('xcut',float),('ycut',float)])\n",
    "cat = np.zeros([22266,22266],dtype=dtype)\n",
    "for i in df:\n",
    "    xcut=i\n",
    "    for j in df:\n",
    "        ycut=j\n",
    "        (ind, cutind) = roi_cut(xcut,ycut,x,y)\n",
    "        cat[i,j]['ind']=ind\n",
    "        cat[i,j]['cutind']=cutind"
   ]
  },
  {
   "cell_type": "code",
   "execution_count": 11,
   "metadata": {},
   "outputs": [],
   "source": [
    "x=[206,226,297,307,321,350,382,412,408,334,312,278,257,214]\n",
    "y=[103,84,81,126,166,205,239,258,292,286,248,196,160,126]\n",
    "\n",
    "xcut=df['bp_rp']\n",
    "ycut=df['phot_g_mean_mag']\n",
    "(ind, cutind) = roi_cut(xcut,ycut,x,y)"
   ]
  },
  {
   "cell_type": "code",
   "execution_count": 13,
   "metadata": {},
   "outputs": [
    {
     "name": "stdout",
     "output_type": "stream",
     "text": [
      "   bp_rp   \n",
      "-----------\n",
      "   2.277237\n",
      "        nan\n",
      "  0.6065006\n",
      "   1.407896\n",
      " 0.99051476\n",
      "  0.5655155\n",
      "-0.09762192\n",
      "  0.2900467\n",
      "  1.1290417\n",
      "        nan\n",
      "        ...\n",
      "  1.3025856\n",
      "0.008384705\n",
      "  1.1897736\n",
      "  0.3356266\n",
      " 0.78585243\n",
      "  1.1441746\n",
      "  1.0645771\n",
      "  1.1285095\n",
      "  0.5766258\n",
      "  1.1788254\n",
      " 0.15788269\n",
      "Length = 22267 rows\n"
     ]
    }
   ],
   "source": [
    "print (df['bp_rp'])"
   ]
  },
  {
   "cell_type": "code",
   "execution_count": null,
   "metadata": {},
   "outputs": [],
   "source": []
  }
 ],
 "metadata": {
  "kernelspec": {
   "display_name": "Python 3",
   "language": "python",
   "name": "python3"
  },
  "language_info": {
   "codemirror_mode": {
    "name": "ipython",
    "version": 3
   },
   "file_extension": ".py",
   "mimetype": "text/x-python",
   "name": "python",
   "nbconvert_exporter": "python",
   "pygments_lexer": "ipython3",
   "version": "3.7.0"
  }
 },
 "nbformat": 4,
 "nbformat_minor": 2
}
