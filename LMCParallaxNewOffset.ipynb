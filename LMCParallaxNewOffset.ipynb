{
 "cells": [
  {
   "cell_type": "code",
   "execution_count": 1,
   "metadata": {},
   "outputs": [],
   "source": [
    "from dl import authClient as ac, queryClient as qc, storeClient as sc, helpers\n",
    "import pylab as plt\n",
    "import numpy as np"
   ]
  },
  {
   "cell_type": "code",
   "execution_count": 2,
   "metadata": {},
   "outputs": [],
   "source": [
    "token=ac.login('mgkadrmas')"
   ]
  },
  {
   "cell_type": "code",
   "execution_count": 57,
   "metadata": {},
   "outputs": [],
   "source": [
    "def LMCParallax (ra,dec,radius):\n",
    "    #take query\n",
    "    res=qc.query(token,sql='select * from gaia_dr2.gaia_source where q3c_radial_query(ra,dec,'+str(ra)+','+str(dec)+','+str(radius)+')')\n",
    "    df=helpers.utils.convert(res,'table')\n",
    "    good1 = (df['bp_rp'].data>=0.92) & (df['bp_rp'].data<=2.5) & (df['phot_g_mean_mag']<20.0) & (df['phot_g_mean_mag']>=(-5.0*df['bp_rp']+24.0)) & (df['phot_g_mean_mag']<=(-5.0*df['bp_rp']+27.0)) & (np.abs(df['parallax'])<=0.2)\n",
    "    medpmra=np.median(df['pmra'][good1])\n",
    "    medpmdec=np.median(df['pmdec'][good1])\n",
    "    pndist=np.sqrt((df['pmra']-medpmra)**2 + (df['pmdec']-medpmdec)**2)\n",
    "    good2 = (df['bp_rp'].data>=0.92) & (df['bp_rp'].data<=2.5) & (df['phot_g_mean_mag']<19.0) & (df['phot_g_mean_mag']>=(-5.0*df['bp_rp']+24.0)) & (df['phot_g_mean_mag']<=(-5.0*df['bp_rp']+27.0)) & (np.abs(df['parallax'])<=0.2) &(pndist<=2.0)\n",
    "    medplx=np.median(df['parallax'][good2])+0.030112982075019102  #0.052 #change offset to find right mean distance \n",
    "    ngood=np.sum(good2)\n",
    "    print(ra, dec, radius, ngood, medplx)\n",
    "    return (ngood, medplx)"
   ]
  },
  {
   "cell_type": "code",
   "execution_count": 58,
   "metadata": {},
   "outputs": [
    {
     "name": "stdout",
     "output_type": "stream",
     "text": [
      "79 -76 0.5 2393 0.020000000000000004\n"
     ]
    },
    {
     "name": "stderr",
     "output_type": "stream",
     "text": [
      "/data0/sw/anaconda3/lib/python3.6/site-packages/ipykernel_launcher.py:5: RuntimeWarning: invalid value encountered in greater_equal\n",
      "  \"\"\"\n",
      "/data0/sw/anaconda3/lib/python3.6/site-packages/ipykernel_launcher.py:5: RuntimeWarning: invalid value encountered in less_equal\n",
      "  \"\"\"\n",
      "/data0/sw/anaconda3/lib/python3.6/site-packages/ipykernel_launcher.py:9: RuntimeWarning: invalid value encountered in greater_equal\n",
      "  if __name__ == '__main__':\n",
      "/data0/sw/anaconda3/lib/python3.6/site-packages/ipykernel_launcher.py:9: RuntimeWarning: invalid value encountered in less_equal\n",
      "  if __name__ == '__main__':\n"
     ]
    }
   ],
   "source": [
    "radius=0.5\n",
    "dtype = np.dtype([('ra',float),('dec',float),('radius',float),('ngood',int),('parallax',float)])\n",
    "cat = np.zeros([25,13],dtype=dtype)\n",
    "for i in range (1):\n",
    "    ra=i+79\n",
    "    for j in range (1):\n",
    "        dec=j-76\n",
    "        (ngood, medplx) = LMCParallax(ra,dec,radius) #what to do with returned values\n",
    "        cat[i,j]['ra']=ra\n",
    "        cat[i,j]['dec']=dec\n",
    "        cat[i,j]['radius']=radius\n",
    "        cat[i,j]['ngood']=ngood\n",
    "        cat[i,j]['parallax']=medplx"
   ]
  },
  {
   "cell_type": "code",
   "execution_count": 59,
   "metadata": {},
   "outputs": [
    {
     "name": "stdout",
     "output_type": "stream",
     "text": [
      "49.99999999999999\n"
     ]
    }
   ],
   "source": [
    "dist=(1/0.020000000000000004)\n",
    "print(dist) "
   ]
  },
  {
   "cell_type": "code",
   "execution_count": null,
   "metadata": {},
   "outputs": [],
   "source": []
  }
 ],
 "metadata": {
  "kernelspec": {
   "display_name": "Python 3",
   "language": "python",
   "name": "python3"
  },
  "language_info": {
   "codemirror_mode": {
    "name": "ipython",
    "version": 3
   },
   "file_extension": ".py",
   "mimetype": "text/x-python",
   "name": "python",
   "nbconvert_exporter": "python",
   "pygments_lexer": "ipython3",
   "version": "3.6.8"
  }
 },
 "nbformat": 4,
 "nbformat_minor": 2
}
